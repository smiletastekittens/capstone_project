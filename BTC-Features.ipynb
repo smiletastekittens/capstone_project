{
 "cells": [
  {
   "cell_type": "code",
   "execution_count": 1,
   "id": "4a97542b-2087-44be-afd3-cf89a8552ed3",
   "metadata": {},
   "outputs": [],
   "source": [
    "from datetime import datetime as dt, timedelta\n",
    "import numpy as np\n",
    "import pandas as pd"
   ]
  },
  {
   "cell_type": "markdown",
   "id": "58914174-2ae3-4c01-ba92-4d72494af9ad",
   "metadata": {},
   "source": [
    "# Ensure / Enforce Data Integrity"
   ]
  },
  {
   "cell_type": "code",
   "execution_count": 2,
   "id": "a3572e77-2523-43b0-a9d5-9ceb60a3fcd7",
   "metadata": {},
   "outputs": [],
   "source": [
    "# gather initial datasets\n",
    "broad = pd.read_csv('nominal_broad_dollar_index.csv')\n",
    "bitcoin = pd.read_csv('bitcoin.csv')"
   ]
  },
  {
   "cell_type": "code",
   "execution_count": 3,
   "id": "8056863b-b143-4891-96f8-9676ba5e7deb",
   "metadata": {},
   "outputs": [
    {
     "data": {
      "text/plain": [
       "((2984, 6), (2657, 2))"
      ]
     },
     "execution_count": 3,
     "metadata": {},
     "output_type": "execute_result"
    }
   ],
   "source": [
    "bitcoin.shape, broad.shape"
   ]
  },
  {
   "cell_type": "code",
   "execution_count": 4,
   "id": "b37bb71d-67d4-4629-8fa0-04e082af98ea",
   "metadata": {},
   "outputs": [
    {
     "data": {
      "text/plain": [
       "('2016-01-01', '2024-03-01', '2014-01-02', '2024-03-08')"
      ]
     },
     "execution_count": 4,
     "metadata": {},
     "output_type": "execute_result"
    }
   ],
   "source": [
    "bitcoin.day.min(), bitcoin.day.max(), broad.DATE.min(), broad.DATE.max()"
   ]
  },
  {
   "cell_type": "code",
   "execution_count": 5,
   "id": "940fb112-f114-4074-b340-982bf466efd3",
   "metadata": {},
   "outputs": [
    {
     "data": {
      "text/plain": [
       "(day\n",
       " 2023-05-23    2\n",
       " 2016-01-01    1\n",
       " 2021-06-15    1\n",
       " 2021-06-06    1\n",
       " 2021-06-07    1\n",
       "              ..\n",
       " 2018-09-24    1\n",
       " 2018-09-25    1\n",
       " 2018-09-26    1\n",
       " 2018-09-27    1\n",
       " 2024-03-01    1\n",
       " Name: count, Length: 2983, dtype: int64,\n",
       " DATE\n",
       " 2014-01-02    1\n",
       " 2020-10-08    1\n",
       " 2020-10-12    1\n",
       " 2020-10-13    1\n",
       " 2020-10-14    1\n",
       "              ..\n",
       " 2017-05-29    1\n",
       " 2017-05-30    1\n",
       " 2017-05-31    1\n",
       " 2017-06-01    1\n",
       " 2024-03-08    1\n",
       " Name: count, Length: 2657, dtype: int64)"
      ]
     },
     "execution_count": 5,
     "metadata": {},
     "output_type": "execute_result"
    }
   ],
   "source": [
    "# check for duplicate dates\n",
    "bitcoin.day.value_counts(), broad.DATE.value_counts()"
   ]
  },
  {
   "cell_type": "code",
   "execution_count": 6,
   "id": "02ea2656-9a9c-4554-9548-40668d7afed8",
   "metadata": {},
   "outputs": [
    {
     "data": {
      "text/html": [
       "<div>\n",
       "<style scoped>\n",
       "    .dataframe tbody tr th:only-of-type {\n",
       "        vertical-align: middle;\n",
       "    }\n",
       "\n",
       "    .dataframe tbody tr th {\n",
       "        vertical-align: top;\n",
       "    }\n",
       "\n",
       "    .dataframe thead th {\n",
       "        text-align: right;\n",
       "    }\n",
       "</style>\n",
       "<table border=\"1\" class=\"dataframe\">\n",
       "  <thead>\n",
       "    <tr style=\"text-align: right;\">\n",
       "      <th></th>\n",
       "      <th>day</th>\n",
       "      <th>low</th>\n",
       "      <th>high</th>\n",
       "      <th>open</th>\n",
       "      <th>close</th>\n",
       "      <th>volume</th>\n",
       "    </tr>\n",
       "  </thead>\n",
       "  <tbody>\n",
       "    <tr>\n",
       "      <th>2699</th>\n",
       "      <td>2023-05-23</td>\n",
       "      <td>26070.04</td>\n",
       "      <td>27225.0</td>\n",
       "      <td>27222.86</td>\n",
       "      <td>26321.4</td>\n",
       "      <td>17337.444316</td>\n",
       "    </tr>\n",
       "    <tr>\n",
       "      <th>2700</th>\n",
       "      <td>2023-05-23</td>\n",
       "      <td>26070.04</td>\n",
       "      <td>27225.0</td>\n",
       "      <td>27222.86</td>\n",
       "      <td>26321.4</td>\n",
       "      <td>17337.444316</td>\n",
       "    </tr>\n",
       "  </tbody>\n",
       "</table>\n",
       "</div>"
      ],
      "text/plain": [
       "             day       low     high      open    close        volume\n",
       "2699  2023-05-23  26070.04  27225.0  27222.86  26321.4  17337.444316\n",
       "2700  2023-05-23  26070.04  27225.0  27222.86  26321.4  17337.444316"
      ]
     },
     "execution_count": 6,
     "metadata": {},
     "output_type": "execute_result"
    }
   ],
   "source": [
    "# bitcoin has one duplicate\n",
    "bitcoin[bitcoin.day == '2023-05-23']"
   ]
  },
  {
   "cell_type": "code",
   "execution_count": 7,
   "id": "912c9751-9ce0-4177-b956-f804070496b4",
   "metadata": {},
   "outputs": [
    {
     "data": {
      "text/plain": [
       "(2983, 6)"
      ]
     },
     "execution_count": 7,
     "metadata": {},
     "output_type": "execute_result"
    }
   ],
   "source": [
    "# remove the duplicate date\n",
    "bitcoin = bitcoin.drop(2700)\n",
    "bitcoin.shape"
   ]
  },
  {
   "cell_type": "code",
   "execution_count": 8,
   "id": "0afafae6-4e02-4edb-a0c6-b034a75140a0",
   "metadata": {
    "scrolled": true
   },
   "outputs": [],
   "source": [
    "# set datetimeindex for NBDI and bitcoin\n",
    "broad['DATE'] = pd.to_datetime(broad['DATE'])\n",
    "broad = broad.set_index('DATE')\n",
    "\n",
    "bitcoin['day'] = pd.to_datetime(bitcoin['day'])\n",
    "bitcoin = bitcoin.set_index('day')"
   ]
  },
  {
   "cell_type": "code",
   "execution_count": 9,
   "id": "40a8e6c8-ee7e-47ff-9fbe-4ba8532bc805",
   "metadata": {},
   "outputs": [],
   "source": [
    "# convert NBDI to float data type\n",
    "broad['DTWEXBGS'] = broad['DTWEXBGS'].apply(lambda x: np.nan if x == '.' else x).astype('float')"
   ]
  },
  {
   "cell_type": "code",
   "execution_count": 10,
   "id": "5ee5e33f-a5d2-414d-9b14-9d8cd8294a0c",
   "metadata": {},
   "outputs": [
    {
     "data": {
      "text/plain": [
       "((2923, 5), (2087, 1))"
      ]
     },
     "execution_count": 10,
     "metadata": {},
     "output_type": "execute_result"
    }
   ],
   "source": [
    "# restrict to the same time range, 2016-01-01 to 2024-01-01\n",
    "bitcoin_ranged = bitcoin['2016-01-01':'2024-01-01']\n",
    "broad_ranged = broad['2016-01-01':'2024-01-01']\n",
    "\n",
    "bitcoin_ranged.shape, broad_ranged.shape"
   ]
  },
  {
   "cell_type": "code",
   "execution_count": 11,
   "id": "0471a481-8a20-4d3b-9e16-807d8f2bbd0a",
   "metadata": {},
   "outputs": [],
   "source": [
    "start = dt(2016, 1, 1)\n",
    "end = dt(2024, 1, 2)\n",
    "target_days = (end - start).days"
   ]
  },
  {
   "cell_type": "code",
   "execution_count": 12,
   "id": "b45735fd-8f31-4479-a788-6b2d5229f8dd",
   "metadata": {},
   "outputs": [],
   "source": [
    "# merge datasets\n",
    "combined = bitcoin_ranged.merge(broad_ranged, left_index=True, right_index=True, how='outer', validate='one_to_one')\n",
    "assert combined.shape[0] == target_days, f'Number of data points expected vs. actual: {target_days}, {combined.shape[0]}'"
   ]
  },
  {
   "cell_type": "code",
   "execution_count": 13,
   "id": "02664a71-a5e6-4b39-9413-43041885290b",
   "metadata": {},
   "outputs": [],
   "source": [
    "# rename nbdi field\n",
    "combined = combined.rename(columns={'DTWEXBGS': 'nbdi'})"
   ]
  },
  {
   "cell_type": "code",
   "execution_count": 14,
   "id": "95eb6170-564f-4a92-8588-f36d2c584ec7",
   "metadata": {},
   "outputs": [
    {
     "name": "stdout",
     "output_type": "stream",
     "text": [
      "low: 0\n",
      "high: 0\n",
      "open: 0\n",
      "close: 0\n",
      "volume: 0\n",
      "nbdi: 932\n"
     ]
    }
   ],
   "source": [
    "# all columns should be float type, check for nan values\n",
    "for col in combined.columns:\n",
    "    print(f'{col}:', combined[col].isna().sum())"
   ]
  },
  {
   "cell_type": "code",
   "execution_count": 15,
   "id": "3627daba-e735-4508-8006-948a68a7db26",
   "metadata": {},
   "outputs": [
    {
     "data": {
      "text/plain": [
       "count    1991.000000\n",
       "mean      115.719700\n",
       "std         4.273181\n",
       "min       106.487700\n",
       "25%       112.716800\n",
       "50%       115.173300\n",
       "75%       118.588850\n",
       "max       128.454400\n",
       "Name: nbdi, dtype: float64"
      ]
     },
     "execution_count": 15,
     "metadata": {},
     "output_type": "execute_result"
    }
   ],
   "source": [
    "# check summary stats in anticipation of imputing values\n",
    "combined.nbdi.describe()"
   ]
  },
  {
   "cell_type": "code",
   "execution_count": 16,
   "id": "66f38bf6-cf37-4912-ba09-2542932f9b14",
   "metadata": {},
   "outputs": [],
   "source": [
    "# impute values, forward fill due to historical nature of time, back fill any first missing values\n",
    "combined = combined.ffill().bfill()"
   ]
  },
  {
   "cell_type": "code",
   "execution_count": 17,
   "id": "c2fd9b92-6249-4906-82f5-54a4d6f86534",
   "metadata": {},
   "outputs": [
    {
     "data": {
      "text/plain": [
       "count    2923.000000\n",
       "mean      115.716469\n",
       "std         4.258462\n",
       "min       106.487700\n",
       "25%       112.713900\n",
       "50%       115.186500\n",
       "75%       118.427300\n",
       "max       128.454400\n",
       "Name: nbdi, dtype: float64"
      ]
     },
     "execution_count": 17,
     "metadata": {},
     "output_type": "execute_result"
    }
   ],
   "source": [
    "# stats should remain roughly equivalent after imputation\n",
    "combined.nbdi.describe()"
   ]
  },
  {
   "cell_type": "code",
   "execution_count": 18,
   "id": "27e7be03-5843-4e9f-bed8-96987c07782d",
   "metadata": {},
   "outputs": [
    {
     "name": "stdout",
     "output_type": "stream",
     "text": [
      "low: 0\n",
      "high: 0\n",
      "open: 0\n",
      "close: 0\n",
      "volume: 0\n",
      "nbdi: 0\n"
     ]
    }
   ],
   "source": [
    "# ensure we have no further missing values\n",
    "for col in combined.columns:\n",
    "    print(f'{col}:', combined[col].isna().sum())"
   ]
  },
  {
   "cell_type": "code",
   "execution_count": 19,
   "id": "e6ab98d8-2c56-494d-a96f-22346c0c6f5f",
   "metadata": {},
   "outputs": [],
   "source": [
    "# save csv\n",
    "combined.to_csv('bitcoin_data.csv')"
   ]
  },
  {
   "cell_type": "code",
   "execution_count": 20,
   "id": "bb982fb1-b8d4-40f2-b3ac-2c12dac7598b",
   "metadata": {},
   "outputs": [
    {
     "data": {
      "text/html": [
       "<div>\n",
       "<style scoped>\n",
       "    .dataframe tbody tr th:only-of-type {\n",
       "        vertical-align: middle;\n",
       "    }\n",
       "\n",
       "    .dataframe tbody tr th {\n",
       "        vertical-align: top;\n",
       "    }\n",
       "\n",
       "    .dataframe thead th {\n",
       "        text-align: right;\n",
       "    }\n",
       "</style>\n",
       "<table border=\"1\" class=\"dataframe\">\n",
       "  <thead>\n",
       "    <tr style=\"text-align: right;\">\n",
       "      <th></th>\n",
       "      <th>low</th>\n",
       "      <th>high</th>\n",
       "      <th>open</th>\n",
       "      <th>close</th>\n",
       "      <th>volume</th>\n",
       "      <th>nbdi</th>\n",
       "    </tr>\n",
       "  </thead>\n",
       "  <tbody>\n",
       "    <tr>\n",
       "      <th>2016-01-01</th>\n",
       "      <td>432.41</td>\n",
       "      <td>437.56</td>\n",
       "      <td>435.67</td>\n",
       "      <td>435.40</td>\n",
       "      <td>3276.709621</td>\n",
       "      <td>114.1595</td>\n",
       "    </tr>\n",
       "    <tr>\n",
       "      <th>2016-01-02</th>\n",
       "      <td>425.02</td>\n",
       "      <td>435.75</td>\n",
       "      <td>435.40</td>\n",
       "      <td>431.91</td>\n",
       "      <td>3904.335318</td>\n",
       "      <td>114.1595</td>\n",
       "    </tr>\n",
       "    <tr>\n",
       "      <th>2016-01-03</th>\n",
       "      <td>431.37</td>\n",
       "      <td>435.79</td>\n",
       "      <td>431.90</td>\n",
       "      <td>433.85</td>\n",
       "      <td>5894.445723</td>\n",
       "      <td>114.1595</td>\n",
       "    </tr>\n",
       "    <tr>\n",
       "      <th>2016-01-04</th>\n",
       "      <td>430.00</td>\n",
       "      <td>435.64</td>\n",
       "      <td>433.84</td>\n",
       "      <td>433.34</td>\n",
       "      <td>5150.109476</td>\n",
       "      <td>114.1595</td>\n",
       "    </tr>\n",
       "    <tr>\n",
       "      <th>2016-01-05</th>\n",
       "      <td>428.15</td>\n",
       "      <td>433.46</td>\n",
       "      <td>433.32</td>\n",
       "      <td>430.87</td>\n",
       "      <td>5476.959959</td>\n",
       "      <td>114.2649</td>\n",
       "    </tr>\n",
       "  </tbody>\n",
       "</table>\n",
       "</div>"
      ],
      "text/plain": [
       "               low    high    open   close       volume      nbdi\n",
       "2016-01-01  432.41  437.56  435.67  435.40  3276.709621  114.1595\n",
       "2016-01-02  425.02  435.75  435.40  431.91  3904.335318  114.1595\n",
       "2016-01-03  431.37  435.79  431.90  433.85  5894.445723  114.1595\n",
       "2016-01-04  430.00  435.64  433.84  433.34  5150.109476  114.1595\n",
       "2016-01-05  428.15  433.46  433.32  430.87  5476.959959  114.2649"
      ]
     },
     "execution_count": 20,
     "metadata": {},
     "output_type": "execute_result"
    }
   ],
   "source": [
    "combined.head()"
   ]
  },
  {
   "cell_type": "code",
   "execution_count": 21,
   "id": "b78df8a5-ec62-48ba-9dce-2428f0afeb74",
   "metadata": {},
   "outputs": [
    {
     "data": {
      "text/plain": [
       "(2923, 6)"
      ]
     },
     "execution_count": 21,
     "metadata": {},
     "output_type": "execute_result"
    }
   ],
   "source": [
    "combined.shape"
   ]
  },
  {
   "cell_type": "code",
   "execution_count": 22,
   "id": "237f9aa1-1793-4fff-b5f6-df5d85601d13",
   "metadata": {},
   "outputs": [],
   "source": [
    "# we're only interested in close and volume values, drop the rest\n",
    "dropped = combined.drop(columns=['low', 'high', 'open'])"
   ]
  },
  {
   "cell_type": "code",
   "execution_count": 23,
   "id": "e966b408-b54b-4dfd-92fa-05c411396b56",
   "metadata": {},
   "outputs": [
    {
     "data": {
      "text/html": [
       "<div>\n",
       "<style scoped>\n",
       "    .dataframe tbody tr th:only-of-type {\n",
       "        vertical-align: middle;\n",
       "    }\n",
       "\n",
       "    .dataframe tbody tr th {\n",
       "        vertical-align: top;\n",
       "    }\n",
       "\n",
       "    .dataframe thead th {\n",
       "        text-align: right;\n",
       "    }\n",
       "</style>\n",
       "<table border=\"1\" class=\"dataframe\">\n",
       "  <thead>\n",
       "    <tr style=\"text-align: right;\">\n",
       "      <th></th>\n",
       "      <th>close</th>\n",
       "      <th>volume</th>\n",
       "      <th>nbdi</th>\n",
       "    </tr>\n",
       "  </thead>\n",
       "  <tbody>\n",
       "    <tr>\n",
       "      <th>2016-01-01</th>\n",
       "      <td>435.40</td>\n",
       "      <td>3276.709621</td>\n",
       "      <td>114.1595</td>\n",
       "    </tr>\n",
       "    <tr>\n",
       "      <th>2016-01-02</th>\n",
       "      <td>431.91</td>\n",
       "      <td>3904.335318</td>\n",
       "      <td>114.1595</td>\n",
       "    </tr>\n",
       "    <tr>\n",
       "      <th>2016-01-03</th>\n",
       "      <td>433.85</td>\n",
       "      <td>5894.445723</td>\n",
       "      <td>114.1595</td>\n",
       "    </tr>\n",
       "    <tr>\n",
       "      <th>2016-01-04</th>\n",
       "      <td>433.34</td>\n",
       "      <td>5150.109476</td>\n",
       "      <td>114.1595</td>\n",
       "    </tr>\n",
       "    <tr>\n",
       "      <th>2016-01-05</th>\n",
       "      <td>430.87</td>\n",
       "      <td>5476.959959</td>\n",
       "      <td>114.2649</td>\n",
       "    </tr>\n",
       "  </tbody>\n",
       "</table>\n",
       "</div>"
      ],
      "text/plain": [
       "             close       volume      nbdi\n",
       "2016-01-01  435.40  3276.709621  114.1595\n",
       "2016-01-02  431.91  3904.335318  114.1595\n",
       "2016-01-03  433.85  5894.445723  114.1595\n",
       "2016-01-04  433.34  5150.109476  114.1595\n",
       "2016-01-05  430.87  5476.959959  114.2649"
      ]
     },
     "execution_count": 23,
     "metadata": {},
     "output_type": "execute_result"
    }
   ],
   "source": [
    "dropped.head()"
   ]
  },
  {
   "cell_type": "code",
   "execution_count": 24,
   "id": "bc871edc-d8ed-4619-8ba7-1a3ff18fd785",
   "metadata": {},
   "outputs": [],
   "source": [
    "dropped.to_csv('bitcoin_final.csv', index_label='date')"
   ]
  },
  {
   "cell_type": "markdown",
   "id": "05d45c72-2f32-4bf5-9f80-7cea17c41a89",
   "metadata": {},
   "source": [
    "# Feature Extraction"
   ]
  },
  {
   "cell_type": "code",
   "execution_count": 25,
   "id": "6e06668b-4392-410a-9881-497af87d2b52",
   "metadata": {},
   "outputs": [],
   "source": [
    "bitcoin = pd.read_csv('bitcoin_final.csv', index_col='date')"
   ]
  },
  {
   "cell_type": "code",
   "execution_count": 26,
   "id": "1523df61-f5ad-46b6-b5f0-d7e49f537be8",
   "metadata": {},
   "outputs": [
    {
     "data": {
      "text/plain": [
       "(2923, 3)"
      ]
     },
     "execution_count": 26,
     "metadata": {},
     "output_type": "execute_result"
    }
   ],
   "source": [
    "bitcoin.shape"
   ]
  },
  {
   "cell_type": "markdown",
   "id": "ba3ffd8b-3d56-41a8-962d-f2e7cf13e6a0",
   "metadata": {},
   "source": [
    "## Temporal Embedding"
   ]
  },
  {
   "cell_type": "markdown",
   "id": "b46e7c33-66db-4227-a02d-d4f2c5b738e1",
   "metadata": {},
   "source": [
    "### Passage of Time\n",
    "\n",
    "This should generically embed a feature that indicates the passage of time."
   ]
  },
  {
   "cell_type": "code",
   "execution_count": 27,
   "id": "51a4a33a-cd8c-4a99-8b61-86be94098870",
   "metadata": {},
   "outputs": [],
   "source": [
    "# Encode the passage of time\n",
    "bitcoin.loc[:, 'days_elapsed'] = range(0, bitcoin.shape[0])"
   ]
  },
  {
   "cell_type": "markdown",
   "id": "3b0e5577-2448-4c4e-a281-9348f4de5999",
   "metadata": {},
   "source": [
    "### Pre or Post Pandemic\n",
    "\n",
    "As part of our hypothesis, we need to identify pre and post pandemic segments.  The delineation between the two is defined as the date when the World Health Organization officially declared a pandemic; March 11, 2020. We also want to encode the time passage of both epochs."
   ]
  },
  {
   "cell_type": "code",
   "execution_count": 28,
   "id": "e2fbed0f-0601-4801-b3b6-11b37b38e8ed",
   "metadata": {},
   "outputs": [],
   "source": [
    "# use binary value to indicate if observation is post pandemic\n",
    "bitcoin['post_pandemic'] = (bitcoin.index >= '2020-03-11')\n",
    "bitcoin['post_pandemic'] = bitcoin.post_pandemic.astype(int)"
   ]
  },
  {
   "cell_type": "code",
   "execution_count": 29,
   "id": "5cc4179a-1b96-42ee-8fe0-e4c42781b5c3",
   "metadata": {},
   "outputs": [],
   "source": [
    "# get days_elapsed property for day pandemic announced\n",
    "center = bitcoin.loc['2020-03-11'].days_elapsed\n",
    "bitcoin.loc[:, 'pandemic_elapsed'] = (bitcoin.days_elapsed - center)\n",
    "bitcoin['pandemic_elapsed'] = bitcoin.pandemic_elapsed.astype(int)"
   ]
  },
  {
   "cell_type": "markdown",
   "id": "3954520f-d5fd-4100-9bbf-74ed78047928",
   "metadata": {},
   "source": [
    "### Calendar Features\n",
    "\n",
    "Calendar features can help reveal relationships with seasonality and time-based trends"
   ]
  },
  {
   "cell_type": "code",
   "execution_count": 30,
   "id": "33d54f4b-1016-4f9c-8340-343a4db7d26e",
   "metadata": {},
   "outputs": [],
   "source": [
    "bitcoin[['calendar_year', 'calendar_month', 'calendar_day', 'calendar_weekday']] = 0"
   ]
  },
  {
   "cell_type": "code",
   "execution_count": 31,
   "id": "426d8ebb-20a0-4c73-8517-8c63f921971e",
   "metadata": {
    "scrolled": true
   },
   "outputs": [],
   "source": [
    "def calendar_components(r):\n",
    "    d = dt.strptime(r.name, '%Y-%m-%d')\n",
    "    r['calendar_day'] = d.day\n",
    "    r['calendar_month'] = d.month\n",
    "    r['calendar_year'] = d.year\n",
    "    r['calendar_weekday'] = d.weekday()\n",
    "    return r\n",
    "\n",
    "bitcoin = bitcoin.copy()\n",
    "bitcoin = bitcoin.apply(calendar_components, axis=1)"
   ]
  },
  {
   "cell_type": "code",
   "execution_count": 32,
   "id": "5015f2ef-9f83-4010-a2a4-7c6485c26b57",
   "metadata": {},
   "outputs": [
    {
     "data": {
      "text/html": [
       "<div>\n",
       "<style scoped>\n",
       "    .dataframe tbody tr th:only-of-type {\n",
       "        vertical-align: middle;\n",
       "    }\n",
       "\n",
       "    .dataframe tbody tr th {\n",
       "        vertical-align: top;\n",
       "    }\n",
       "\n",
       "    .dataframe thead th {\n",
       "        text-align: right;\n",
       "    }\n",
       "</style>\n",
       "<table border=\"1\" class=\"dataframe\">\n",
       "  <thead>\n",
       "    <tr style=\"text-align: right;\">\n",
       "      <th></th>\n",
       "      <th>close</th>\n",
       "      <th>volume</th>\n",
       "      <th>nbdi</th>\n",
       "      <th>days_elapsed</th>\n",
       "      <th>post_pandemic</th>\n",
       "      <th>pandemic_elapsed</th>\n",
       "      <th>calendar_year</th>\n",
       "      <th>calendar_month</th>\n",
       "      <th>calendar_day</th>\n",
       "      <th>calendar_weekday</th>\n",
       "    </tr>\n",
       "    <tr>\n",
       "      <th>date</th>\n",
       "      <th></th>\n",
       "      <th></th>\n",
       "      <th></th>\n",
       "      <th></th>\n",
       "      <th></th>\n",
       "      <th></th>\n",
       "      <th></th>\n",
       "      <th></th>\n",
       "      <th></th>\n",
       "      <th></th>\n",
       "    </tr>\n",
       "  </thead>\n",
       "  <tbody>\n",
       "    <tr>\n",
       "      <th>2016-01-01</th>\n",
       "      <td>435.40</td>\n",
       "      <td>3276.709621</td>\n",
       "      <td>114.1595</td>\n",
       "      <td>0.0</td>\n",
       "      <td>0.0</td>\n",
       "      <td>-1531.0</td>\n",
       "      <td>2016.0</td>\n",
       "      <td>1.0</td>\n",
       "      <td>1.0</td>\n",
       "      <td>4.0</td>\n",
       "    </tr>\n",
       "    <tr>\n",
       "      <th>2016-01-02</th>\n",
       "      <td>431.91</td>\n",
       "      <td>3904.335318</td>\n",
       "      <td>114.1595</td>\n",
       "      <td>1.0</td>\n",
       "      <td>0.0</td>\n",
       "      <td>-1530.0</td>\n",
       "      <td>2016.0</td>\n",
       "      <td>1.0</td>\n",
       "      <td>2.0</td>\n",
       "      <td>5.0</td>\n",
       "    </tr>\n",
       "    <tr>\n",
       "      <th>2016-01-03</th>\n",
       "      <td>433.85</td>\n",
       "      <td>5894.445723</td>\n",
       "      <td>114.1595</td>\n",
       "      <td>2.0</td>\n",
       "      <td>0.0</td>\n",
       "      <td>-1529.0</td>\n",
       "      <td>2016.0</td>\n",
       "      <td>1.0</td>\n",
       "      <td>3.0</td>\n",
       "      <td>6.0</td>\n",
       "    </tr>\n",
       "    <tr>\n",
       "      <th>2016-01-04</th>\n",
       "      <td>433.34</td>\n",
       "      <td>5150.109476</td>\n",
       "      <td>114.1595</td>\n",
       "      <td>3.0</td>\n",
       "      <td>0.0</td>\n",
       "      <td>-1528.0</td>\n",
       "      <td>2016.0</td>\n",
       "      <td>1.0</td>\n",
       "      <td>4.0</td>\n",
       "      <td>0.0</td>\n",
       "    </tr>\n",
       "    <tr>\n",
       "      <th>2016-01-05</th>\n",
       "      <td>430.87</td>\n",
       "      <td>5476.959959</td>\n",
       "      <td>114.2649</td>\n",
       "      <td>4.0</td>\n",
       "      <td>0.0</td>\n",
       "      <td>-1527.0</td>\n",
       "      <td>2016.0</td>\n",
       "      <td>1.0</td>\n",
       "      <td>5.0</td>\n",
       "      <td>1.0</td>\n",
       "    </tr>\n",
       "  </tbody>\n",
       "</table>\n",
       "</div>"
      ],
      "text/plain": [
       "             close       volume      nbdi  days_elapsed  post_pandemic  \\\n",
       "date                                                                     \n",
       "2016-01-01  435.40  3276.709621  114.1595           0.0            0.0   \n",
       "2016-01-02  431.91  3904.335318  114.1595           1.0            0.0   \n",
       "2016-01-03  433.85  5894.445723  114.1595           2.0            0.0   \n",
       "2016-01-04  433.34  5150.109476  114.1595           3.0            0.0   \n",
       "2016-01-05  430.87  5476.959959  114.2649           4.0            0.0   \n",
       "\n",
       "            pandemic_elapsed  calendar_year  calendar_month  calendar_day  \\\n",
       "date                                                                        \n",
       "2016-01-01           -1531.0         2016.0             1.0           1.0   \n",
       "2016-01-02           -1530.0         2016.0             1.0           2.0   \n",
       "2016-01-03           -1529.0         2016.0             1.0           3.0   \n",
       "2016-01-04           -1528.0         2016.0             1.0           4.0   \n",
       "2016-01-05           -1527.0         2016.0             1.0           5.0   \n",
       "\n",
       "            calendar_weekday  \n",
       "date                          \n",
       "2016-01-01               4.0  \n",
       "2016-01-02               5.0  \n",
       "2016-01-03               6.0  \n",
       "2016-01-04               0.0  \n",
       "2016-01-05               1.0  "
      ]
     },
     "execution_count": 32,
     "metadata": {},
     "output_type": "execute_result"
    }
   ],
   "source": [
    "bitcoin.head()"
   ]
  },
  {
   "cell_type": "markdown",
   "id": "2a1ee5ca-2cbb-4722-9fb1-cc74d26544b3",
   "metadata": {},
   "source": [
    "## Price Features"
   ]
  },
  {
   "cell_type": "markdown",
   "id": "aed2b9c8-e62d-4a9b-ba12-73141a869c82",
   "metadata": {},
   "source": [
    "### Close Price Lag\n",
    "\n",
    "Data is non-stationary and resistant to attempts to make it stationary.  Price features should be chosen based on popular metrics used in financial trading."
   ]
  },
  {
   "cell_type": "code",
   "execution_count": 33,
   "id": "2cee08dc-e9b0-49b4-af0c-35534409f855",
   "metadata": {},
   "outputs": [
    {
     "data": {
      "text/html": [
       "<div>\n",
       "<style scoped>\n",
       "    .dataframe tbody tr th:only-of-type {\n",
       "        vertical-align: middle;\n",
       "    }\n",
       "\n",
       "    .dataframe tbody tr th {\n",
       "        vertical-align: top;\n",
       "    }\n",
       "\n",
       "    .dataframe thead th {\n",
       "        text-align: right;\n",
       "    }\n",
       "</style>\n",
       "<table border=\"1\" class=\"dataframe\">\n",
       "  <thead>\n",
       "    <tr style=\"text-align: right;\">\n",
       "      <th></th>\n",
       "      <th>close</th>\n",
       "      <th>volume</th>\n",
       "      <th>nbdi</th>\n",
       "      <th>days_elapsed</th>\n",
       "      <th>post_pandemic</th>\n",
       "      <th>pandemic_elapsed</th>\n",
       "      <th>calendar_year</th>\n",
       "      <th>calendar_month</th>\n",
       "      <th>calendar_day</th>\n",
       "      <th>calendar_weekday</th>\n",
       "      <th>close_lag1</th>\n",
       "      <th>close_lag2</th>\n",
       "      <th>close_lag3</th>\n",
       "      <th>close_lag4</th>\n",
       "      <th>close_lag5</th>\n",
       "      <th>close_lag6</th>\n",
       "      <th>close_lag7</th>\n",
       "    </tr>\n",
       "    <tr>\n",
       "      <th>date</th>\n",
       "      <th></th>\n",
       "      <th></th>\n",
       "      <th></th>\n",
       "      <th></th>\n",
       "      <th></th>\n",
       "      <th></th>\n",
       "      <th></th>\n",
       "      <th></th>\n",
       "      <th></th>\n",
       "      <th></th>\n",
       "      <th></th>\n",
       "      <th></th>\n",
       "      <th></th>\n",
       "      <th></th>\n",
       "      <th></th>\n",
       "      <th></th>\n",
       "      <th></th>\n",
       "    </tr>\n",
       "  </thead>\n",
       "  <tbody>\n",
       "    <tr>\n",
       "      <th>2016-01-01</th>\n",
       "      <td>435.40</td>\n",
       "      <td>3276.709621</td>\n",
       "      <td>114.1595</td>\n",
       "      <td>0.0</td>\n",
       "      <td>0.0</td>\n",
       "      <td>-1531.0</td>\n",
       "      <td>2016.0</td>\n",
       "      <td>1.0</td>\n",
       "      <td>1.0</td>\n",
       "      <td>4.0</td>\n",
       "      <td>NaN</td>\n",
       "      <td>NaN</td>\n",
       "      <td>NaN</td>\n",
       "      <td>NaN</td>\n",
       "      <td>NaN</td>\n",
       "      <td>NaN</td>\n",
       "      <td>NaN</td>\n",
       "    </tr>\n",
       "    <tr>\n",
       "      <th>2016-01-02</th>\n",
       "      <td>431.91</td>\n",
       "      <td>3904.335318</td>\n",
       "      <td>114.1595</td>\n",
       "      <td>1.0</td>\n",
       "      <td>0.0</td>\n",
       "      <td>-1530.0</td>\n",
       "      <td>2016.0</td>\n",
       "      <td>1.0</td>\n",
       "      <td>2.0</td>\n",
       "      <td>5.0</td>\n",
       "      <td>435.40</td>\n",
       "      <td>NaN</td>\n",
       "      <td>NaN</td>\n",
       "      <td>NaN</td>\n",
       "      <td>NaN</td>\n",
       "      <td>NaN</td>\n",
       "      <td>NaN</td>\n",
       "    </tr>\n",
       "    <tr>\n",
       "      <th>2016-01-03</th>\n",
       "      <td>433.85</td>\n",
       "      <td>5894.445723</td>\n",
       "      <td>114.1595</td>\n",
       "      <td>2.0</td>\n",
       "      <td>0.0</td>\n",
       "      <td>-1529.0</td>\n",
       "      <td>2016.0</td>\n",
       "      <td>1.0</td>\n",
       "      <td>3.0</td>\n",
       "      <td>6.0</td>\n",
       "      <td>431.91</td>\n",
       "      <td>435.40</td>\n",
       "      <td>NaN</td>\n",
       "      <td>NaN</td>\n",
       "      <td>NaN</td>\n",
       "      <td>NaN</td>\n",
       "      <td>NaN</td>\n",
       "    </tr>\n",
       "    <tr>\n",
       "      <th>2016-01-04</th>\n",
       "      <td>433.34</td>\n",
       "      <td>5150.109476</td>\n",
       "      <td>114.1595</td>\n",
       "      <td>3.0</td>\n",
       "      <td>0.0</td>\n",
       "      <td>-1528.0</td>\n",
       "      <td>2016.0</td>\n",
       "      <td>1.0</td>\n",
       "      <td>4.0</td>\n",
       "      <td>0.0</td>\n",
       "      <td>433.85</td>\n",
       "      <td>431.91</td>\n",
       "      <td>435.40</td>\n",
       "      <td>NaN</td>\n",
       "      <td>NaN</td>\n",
       "      <td>NaN</td>\n",
       "      <td>NaN</td>\n",
       "    </tr>\n",
       "    <tr>\n",
       "      <th>2016-01-05</th>\n",
       "      <td>430.87</td>\n",
       "      <td>5476.959959</td>\n",
       "      <td>114.2649</td>\n",
       "      <td>4.0</td>\n",
       "      <td>0.0</td>\n",
       "      <td>-1527.0</td>\n",
       "      <td>2016.0</td>\n",
       "      <td>1.0</td>\n",
       "      <td>5.0</td>\n",
       "      <td>1.0</td>\n",
       "      <td>433.34</td>\n",
       "      <td>433.85</td>\n",
       "      <td>431.91</td>\n",
       "      <td>435.4</td>\n",
       "      <td>NaN</td>\n",
       "      <td>NaN</td>\n",
       "      <td>NaN</td>\n",
       "    </tr>\n",
       "  </tbody>\n",
       "</table>\n",
       "</div>"
      ],
      "text/plain": [
       "             close       volume      nbdi  days_elapsed  post_pandemic  \\\n",
       "date                                                                     \n",
       "2016-01-01  435.40  3276.709621  114.1595           0.0            0.0   \n",
       "2016-01-02  431.91  3904.335318  114.1595           1.0            0.0   \n",
       "2016-01-03  433.85  5894.445723  114.1595           2.0            0.0   \n",
       "2016-01-04  433.34  5150.109476  114.1595           3.0            0.0   \n",
       "2016-01-05  430.87  5476.959959  114.2649           4.0            0.0   \n",
       "\n",
       "            pandemic_elapsed  calendar_year  calendar_month  calendar_day  \\\n",
       "date                                                                        \n",
       "2016-01-01           -1531.0         2016.0             1.0           1.0   \n",
       "2016-01-02           -1530.0         2016.0             1.0           2.0   \n",
       "2016-01-03           -1529.0         2016.0             1.0           3.0   \n",
       "2016-01-04           -1528.0         2016.0             1.0           4.0   \n",
       "2016-01-05           -1527.0         2016.0             1.0           5.0   \n",
       "\n",
       "            calendar_weekday  close_lag1  close_lag2  close_lag3  close_lag4  \\\n",
       "date                                                                           \n",
       "2016-01-01               4.0         NaN         NaN         NaN         NaN   \n",
       "2016-01-02               5.0      435.40         NaN         NaN         NaN   \n",
       "2016-01-03               6.0      431.91      435.40         NaN         NaN   \n",
       "2016-01-04               0.0      433.85      431.91      435.40         NaN   \n",
       "2016-01-05               1.0      433.34      433.85      431.91       435.4   \n",
       "\n",
       "            close_lag5  close_lag6  close_lag7  \n",
       "date                                            \n",
       "2016-01-01         NaN         NaN         NaN  \n",
       "2016-01-02         NaN         NaN         NaN  \n",
       "2016-01-03         NaN         NaN         NaN  \n",
       "2016-01-04         NaN         NaN         NaN  \n",
       "2016-01-05         NaN         NaN         NaN  "
      ]
     },
     "execution_count": 33,
     "metadata": {},
     "output_type": "execute_result"
    }
   ],
   "source": [
    "immediate_lags = range(1, 8)\n",
    "for i in immediate_lags:\n",
    "    bitcoin[f'close_lag{i}'] = bitcoin.close.shift(i)\n",
    "\n",
    "bitcoin.head()"
   ]
  },
  {
   "cell_type": "markdown",
   "id": "6438b899-eac2-421b-bc74-a7a9570f0cae",
   "metadata": {},
   "source": [
    "## Nominal Broad US Dollar Index Features (NBDI)"
   ]
  },
  {
   "cell_type": "markdown",
   "id": "eb1a6bc4-2850-4c04-940d-e3433c1c623b",
   "metadata": {},
   "source": [
    "### NBDI Lags (30, 90, 180, 360)\n",
    "\n",
    "Cross-correlation shows strong correlation between NBDI and Bitcoin close price with a 1+ year lag.  Multiple moving averages are suitable features in lieu of creating 365 (or more) features to capture the lag."
   ]
  },
  {
   "cell_type": "code",
   "execution_count": 34,
   "id": "771db7c9-c652-4f09-9115-f2c77620b633",
   "metadata": {},
   "outputs": [],
   "source": [
    "bitcoin['nbdi_ma_30'] = bitcoin.nbdi.rolling(30).mean()\n",
    "bitcoin['nbdi_ma_90'] = bitcoin.nbdi.rolling(90).mean()\n",
    "bitcoin['nbdi_ma_180'] = bitcoin.nbdi.rolling(180).mean()\n",
    "bitcoin['nbdi_ma_365'] = bitcoin.nbdi.rolling(365).mean()"
   ]
  },
  {
   "cell_type": "markdown",
   "id": "01a4b81a-8c3d-4a7c-9526-5f9bbc4564da",
   "metadata": {},
   "source": [
    "## Volume Features"
   ]
  },
  {
   "cell_type": "markdown",
   "id": "6e734d86-a180-4443-a12f-a1da964864ec",
   "metadata": {},
   "source": [
    "### Volume lags (30, 90, 180, 360)\n",
    "\n",
    "Similar to NBDI, trade volume has a strong correlation with a 1+ year lag and moving averages should be used."
   ]
  },
  {
   "cell_type": "code",
   "execution_count": 35,
   "id": "5d216cf2-02d3-4612-9f55-13898f447b5d",
   "metadata": {},
   "outputs": [],
   "source": [
    "bitcoin['volume_ma_30'] = bitcoin.volume.rolling(30).mean()\n",
    "bitcoin['volume_ma_90'] = bitcoin.volume.rolling(90).mean()\n",
    "bitcoin['volume_ma_180'] = bitcoin.volume.rolling(180).mean()\n",
    "bitcoin['volume_ma_365'] = bitcoin.volume.rolling(365).mean()"
   ]
  },
  {
   "cell_type": "code",
   "execution_count": 36,
   "id": "80c6d83b-194e-42a9-b469-467b8f3a97fc",
   "metadata": {},
   "outputs": [],
   "source": [
    "bitcoin.to_csv('bitcoin_features.csv')"
   ]
  },
  {
   "cell_type": "code",
   "execution_count": null,
   "id": "460c885c-f0c2-4760-93b2-2e42a1924f7b",
   "metadata": {},
   "outputs": [],
   "source": []
  }
 ],
 "metadata": {
  "kernelspec": {
   "display_name": "Python 3 (ipykernel)",
   "language": "python",
   "name": "python3"
  },
  "language_info": {
   "codemirror_mode": {
    "name": "ipython",
    "version": 3
   },
   "file_extension": ".py",
   "mimetype": "text/x-python",
   "name": "python",
   "nbconvert_exporter": "python",
   "pygments_lexer": "ipython3",
   "version": "3.10.12"
  }
 },
 "nbformat": 4,
 "nbformat_minor": 5
}
